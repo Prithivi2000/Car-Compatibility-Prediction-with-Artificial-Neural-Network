{
 "cells": [
  {
   "cell_type": "markdown",
   "metadata": {},
   "source": [
    "# Finding Compatibility With Car with ANN Classification"
   ]
  },
  {
   "cell_type": "markdown",
   "metadata": {},
   "source": [
    "# Importing the Dataset "
   ]
  },
  {
   "cell_type": "code",
   "execution_count": 1,
   "metadata": {},
   "outputs": [],
   "source": [
    "import pandas as pd\n",
    "import numpy as np\n",
    "import tensorflow as tf\n",
    "from sklearn.preprocessing import LabelEncoder\n",
    "le_y = LabelEncoder()\n",
    "le_x = LabelEncoder()\n",
    "from tensorflow.keras.utils import to_categorical"
   ]
  },
  {
   "cell_type": "code",
   "execution_count": 2,
   "metadata": {},
   "outputs": [
    {
     "data": {
      "text/html": [
       "<div>\n",
       "<style scoped>\n",
       "    .dataframe tbody tr th:only-of-type {\n",
       "        vertical-align: middle;\n",
       "    }\n",
       "\n",
       "    .dataframe tbody tr th {\n",
       "        vertical-align: top;\n",
       "    }\n",
       "\n",
       "    .dataframe thead th {\n",
       "        text-align: right;\n",
       "    }\n",
       "</style>\n",
       "<table border=\"1\" class=\"dataframe\">\n",
       "  <thead>\n",
       "    <tr style=\"text-align: right;\">\n",
       "      <th></th>\n",
       "      <th>Buying</th>\n",
       "      <th>Maintenance</th>\n",
       "      <th>Doors</th>\n",
       "      <th>Persons</th>\n",
       "      <th>Luggage_boot</th>\n",
       "      <th>Safety</th>\n",
       "      <th>Car Compatibility</th>\n",
       "    </tr>\n",
       "  </thead>\n",
       "  <tbody>\n",
       "    <tr>\n",
       "      <th>0</th>\n",
       "      <td>vhigh</td>\n",
       "      <td>vhigh</td>\n",
       "      <td>2</td>\n",
       "      <td>2</td>\n",
       "      <td>small</td>\n",
       "      <td>low</td>\n",
       "      <td>unacc</td>\n",
       "    </tr>\n",
       "    <tr>\n",
       "      <th>1</th>\n",
       "      <td>vhigh</td>\n",
       "      <td>vhigh</td>\n",
       "      <td>2</td>\n",
       "      <td>2</td>\n",
       "      <td>small</td>\n",
       "      <td>med</td>\n",
       "      <td>unacc</td>\n",
       "    </tr>\n",
       "    <tr>\n",
       "      <th>2</th>\n",
       "      <td>vhigh</td>\n",
       "      <td>vhigh</td>\n",
       "      <td>2</td>\n",
       "      <td>2</td>\n",
       "      <td>small</td>\n",
       "      <td>high</td>\n",
       "      <td>unacc</td>\n",
       "    </tr>\n",
       "    <tr>\n",
       "      <th>3</th>\n",
       "      <td>vhigh</td>\n",
       "      <td>vhigh</td>\n",
       "      <td>2</td>\n",
       "      <td>2</td>\n",
       "      <td>med</td>\n",
       "      <td>low</td>\n",
       "      <td>unacc</td>\n",
       "    </tr>\n",
       "    <tr>\n",
       "      <th>4</th>\n",
       "      <td>vhigh</td>\n",
       "      <td>vhigh</td>\n",
       "      <td>2</td>\n",
       "      <td>2</td>\n",
       "      <td>med</td>\n",
       "      <td>med</td>\n",
       "      <td>unacc</td>\n",
       "    </tr>\n",
       "    <tr>\n",
       "      <th>...</th>\n",
       "      <td>...</td>\n",
       "      <td>...</td>\n",
       "      <td>...</td>\n",
       "      <td>...</td>\n",
       "      <td>...</td>\n",
       "      <td>...</td>\n",
       "      <td>...</td>\n",
       "    </tr>\n",
       "    <tr>\n",
       "      <th>1723</th>\n",
       "      <td>low</td>\n",
       "      <td>low</td>\n",
       "      <td>5more</td>\n",
       "      <td>more</td>\n",
       "      <td>med</td>\n",
       "      <td>med</td>\n",
       "      <td>good</td>\n",
       "    </tr>\n",
       "    <tr>\n",
       "      <th>1724</th>\n",
       "      <td>low</td>\n",
       "      <td>low</td>\n",
       "      <td>5more</td>\n",
       "      <td>more</td>\n",
       "      <td>med</td>\n",
       "      <td>high</td>\n",
       "      <td>vgood</td>\n",
       "    </tr>\n",
       "    <tr>\n",
       "      <th>1725</th>\n",
       "      <td>low</td>\n",
       "      <td>low</td>\n",
       "      <td>5more</td>\n",
       "      <td>more</td>\n",
       "      <td>big</td>\n",
       "      <td>low</td>\n",
       "      <td>unacc</td>\n",
       "    </tr>\n",
       "    <tr>\n",
       "      <th>1726</th>\n",
       "      <td>low</td>\n",
       "      <td>low</td>\n",
       "      <td>5more</td>\n",
       "      <td>more</td>\n",
       "      <td>big</td>\n",
       "      <td>med</td>\n",
       "      <td>good</td>\n",
       "    </tr>\n",
       "    <tr>\n",
       "      <th>1727</th>\n",
       "      <td>low</td>\n",
       "      <td>low</td>\n",
       "      <td>5more</td>\n",
       "      <td>more</td>\n",
       "      <td>big</td>\n",
       "      <td>high</td>\n",
       "      <td>vgood</td>\n",
       "    </tr>\n",
       "  </tbody>\n",
       "</table>\n",
       "<p>1728 rows × 7 columns</p>\n",
       "</div>"
      ],
      "text/plain": [
       "     Buying Maintenance  Doors Persons Luggage_boot Safety Car Compatibility\n",
       "0     vhigh       vhigh      2       2        small    low             unacc\n",
       "1     vhigh       vhigh      2       2        small    med             unacc\n",
       "2     vhigh       vhigh      2       2        small   high             unacc\n",
       "3     vhigh       vhigh      2       2          med    low             unacc\n",
       "4     vhigh       vhigh      2       2          med    med             unacc\n",
       "...     ...         ...    ...     ...          ...    ...               ...\n",
       "1723    low         low  5more    more          med    med              good\n",
       "1724    low         low  5more    more          med   high             vgood\n",
       "1725    low         low  5more    more          big    low             unacc\n",
       "1726    low         low  5more    more          big    med              good\n",
       "1727    low         low  5more    more          big   high             vgood\n",
       "\n",
       "[1728 rows x 7 columns]"
      ]
     },
     "execution_count": 2,
     "metadata": {},
     "output_type": "execute_result"
    }
   ],
   "source": [
    "dataset = pd.read_csv('Car Compatibility.csv')\n",
    "dataset"
   ]
  },
  {
   "cell_type": "markdown",
   "metadata": {},
   "source": [
    "# Data Preprocessing"
   ]
  },
  {
   "cell_type": "markdown",
   "metadata": {},
   "source": [
    "# Changing Index Starting as 1 and not 0"
   ]
  },
  {
   "cell_type": "code",
   "execution_count": 3,
   "metadata": {},
   "outputs": [
    {
     "data": {
      "text/html": [
       "<div>\n",
       "<style scoped>\n",
       "    .dataframe tbody tr th:only-of-type {\n",
       "        vertical-align: middle;\n",
       "    }\n",
       "\n",
       "    .dataframe tbody tr th {\n",
       "        vertical-align: top;\n",
       "    }\n",
       "\n",
       "    .dataframe thead th {\n",
       "        text-align: right;\n",
       "    }\n",
       "</style>\n",
       "<table border=\"1\" class=\"dataframe\">\n",
       "  <thead>\n",
       "    <tr style=\"text-align: right;\">\n",
       "      <th></th>\n",
       "      <th>Buying</th>\n",
       "      <th>Maintenance</th>\n",
       "      <th>Doors</th>\n",
       "      <th>Persons</th>\n",
       "      <th>Luggage_boot</th>\n",
       "      <th>Safety</th>\n",
       "      <th>Car Compatibility</th>\n",
       "    </tr>\n",
       "  </thead>\n",
       "  <tbody>\n",
       "    <tr>\n",
       "      <th>1</th>\n",
       "      <td>vhigh</td>\n",
       "      <td>vhigh</td>\n",
       "      <td>2</td>\n",
       "      <td>2</td>\n",
       "      <td>small</td>\n",
       "      <td>low</td>\n",
       "      <td>unacc</td>\n",
       "    </tr>\n",
       "    <tr>\n",
       "      <th>2</th>\n",
       "      <td>vhigh</td>\n",
       "      <td>vhigh</td>\n",
       "      <td>2</td>\n",
       "      <td>2</td>\n",
       "      <td>small</td>\n",
       "      <td>med</td>\n",
       "      <td>unacc</td>\n",
       "    </tr>\n",
       "    <tr>\n",
       "      <th>3</th>\n",
       "      <td>vhigh</td>\n",
       "      <td>vhigh</td>\n",
       "      <td>2</td>\n",
       "      <td>2</td>\n",
       "      <td>small</td>\n",
       "      <td>high</td>\n",
       "      <td>unacc</td>\n",
       "    </tr>\n",
       "    <tr>\n",
       "      <th>4</th>\n",
       "      <td>vhigh</td>\n",
       "      <td>vhigh</td>\n",
       "      <td>2</td>\n",
       "      <td>2</td>\n",
       "      <td>med</td>\n",
       "      <td>low</td>\n",
       "      <td>unacc</td>\n",
       "    </tr>\n",
       "    <tr>\n",
       "      <th>5</th>\n",
       "      <td>vhigh</td>\n",
       "      <td>vhigh</td>\n",
       "      <td>2</td>\n",
       "      <td>2</td>\n",
       "      <td>med</td>\n",
       "      <td>med</td>\n",
       "      <td>unacc</td>\n",
       "    </tr>\n",
       "    <tr>\n",
       "      <th>...</th>\n",
       "      <td>...</td>\n",
       "      <td>...</td>\n",
       "      <td>...</td>\n",
       "      <td>...</td>\n",
       "      <td>...</td>\n",
       "      <td>...</td>\n",
       "      <td>...</td>\n",
       "    </tr>\n",
       "    <tr>\n",
       "      <th>1724</th>\n",
       "      <td>low</td>\n",
       "      <td>low</td>\n",
       "      <td>5more</td>\n",
       "      <td>more</td>\n",
       "      <td>med</td>\n",
       "      <td>med</td>\n",
       "      <td>good</td>\n",
       "    </tr>\n",
       "    <tr>\n",
       "      <th>1725</th>\n",
       "      <td>low</td>\n",
       "      <td>low</td>\n",
       "      <td>5more</td>\n",
       "      <td>more</td>\n",
       "      <td>med</td>\n",
       "      <td>high</td>\n",
       "      <td>vgood</td>\n",
       "    </tr>\n",
       "    <tr>\n",
       "      <th>1726</th>\n",
       "      <td>low</td>\n",
       "      <td>low</td>\n",
       "      <td>5more</td>\n",
       "      <td>more</td>\n",
       "      <td>big</td>\n",
       "      <td>low</td>\n",
       "      <td>unacc</td>\n",
       "    </tr>\n",
       "    <tr>\n",
       "      <th>1727</th>\n",
       "      <td>low</td>\n",
       "      <td>low</td>\n",
       "      <td>5more</td>\n",
       "      <td>more</td>\n",
       "      <td>big</td>\n",
       "      <td>med</td>\n",
       "      <td>good</td>\n",
       "    </tr>\n",
       "    <tr>\n",
       "      <th>1728</th>\n",
       "      <td>low</td>\n",
       "      <td>low</td>\n",
       "      <td>5more</td>\n",
       "      <td>more</td>\n",
       "      <td>big</td>\n",
       "      <td>high</td>\n",
       "      <td>vgood</td>\n",
       "    </tr>\n",
       "  </tbody>\n",
       "</table>\n",
       "<p>1728 rows × 7 columns</p>\n",
       "</div>"
      ],
      "text/plain": [
       "     Buying Maintenance  Doors Persons Luggage_boot Safety Car Compatibility\n",
       "1     vhigh       vhigh      2       2        small    low             unacc\n",
       "2     vhigh       vhigh      2       2        small    med             unacc\n",
       "3     vhigh       vhigh      2       2        small   high             unacc\n",
       "4     vhigh       vhigh      2       2          med    low             unacc\n",
       "5     vhigh       vhigh      2       2          med    med             unacc\n",
       "...     ...         ...    ...     ...          ...    ...               ...\n",
       "1724    low         low  5more    more          med    med              good\n",
       "1725    low         low  5more    more          med   high             vgood\n",
       "1726    low         low  5more    more          big    low             unacc\n",
       "1727    low         low  5more    more          big    med              good\n",
       "1728    low         low  5more    more          big   high             vgood\n",
       "\n",
       "[1728 rows x 7 columns]"
      ]
     },
     "execution_count": 3,
     "metadata": {},
     "output_type": "execute_result"
    }
   ],
   "source": [
    "dataset.index = dataset.index + 1\n",
    "dataset"
   ]
  },
  {
   "cell_type": "markdown",
   "metadata": {},
   "source": [
    "# Changing Characters to Integers For compatibility with the model "
   ]
  },
  {
   "cell_type": "code",
   "execution_count": 4,
   "metadata": {},
   "outputs": [],
   "source": [
    "for i in dataset[dataset['Doors']=='2'].index.values:\n",
    "    dataset['Doors'][i] = 2"
   ]
  },
  {
   "cell_type": "code",
   "execution_count": 5,
   "metadata": {},
   "outputs": [],
   "source": [
    "for i in dataset[dataset['Doors']=='3'].index.values:\n",
    "    dataset['Doors'][i] = 3"
   ]
  },
  {
   "cell_type": "code",
   "execution_count": 6,
   "metadata": {},
   "outputs": [],
   "source": [
    "for i in dataset[dataset['Doors']=='4'].index.values:\n",
    "    dataset['Doors'][i] = 4"
   ]
  },
  {
   "cell_type": "code",
   "execution_count": 7,
   "metadata": {},
   "outputs": [],
   "source": [
    "for i in dataset[dataset['Doors']=='5more'].index.values:\n",
    "    dataset['Doors'][i] = 5"
   ]
  },
  {
   "cell_type": "code",
   "execution_count": 8,
   "metadata": {},
   "outputs": [],
   "source": [
    "for i in dataset[dataset['Persons']=='2'].index.values:\n",
    "    dataset['Persons'][i] = 2"
   ]
  },
  {
   "cell_type": "code",
   "execution_count": 9,
   "metadata": {},
   "outputs": [],
   "source": [
    "for i in dataset[dataset['Persons']=='4'].index.values:\n",
    "    dataset['Persons'][i] = 4"
   ]
  },
  {
   "cell_type": "code",
   "execution_count": 10,
   "metadata": {},
   "outputs": [],
   "source": [
    "for i in dataset[dataset['Persons']=='more'].index.values:\n",
    "    dataset['Persons'][i] = 5"
   ]
  },
  {
   "cell_type": "code",
   "execution_count": 11,
   "metadata": {},
   "outputs": [
    {
     "data": {
      "text/html": [
       "<div>\n",
       "<style scoped>\n",
       "    .dataframe tbody tr th:only-of-type {\n",
       "        vertical-align: middle;\n",
       "    }\n",
       "\n",
       "    .dataframe tbody tr th {\n",
       "        vertical-align: top;\n",
       "    }\n",
       "\n",
       "    .dataframe thead th {\n",
       "        text-align: right;\n",
       "    }\n",
       "</style>\n",
       "<table border=\"1\" class=\"dataframe\">\n",
       "  <thead>\n",
       "    <tr style=\"text-align: right;\">\n",
       "      <th></th>\n",
       "      <th>Buying</th>\n",
       "      <th>Maintenance</th>\n",
       "      <th>Doors</th>\n",
       "      <th>Persons</th>\n",
       "      <th>Luggage_boot</th>\n",
       "      <th>Safety</th>\n",
       "      <th>Car Compatibility</th>\n",
       "    </tr>\n",
       "  </thead>\n",
       "  <tbody>\n",
       "    <tr>\n",
       "      <th>1</th>\n",
       "      <td>vhigh</td>\n",
       "      <td>vhigh</td>\n",
       "      <td>2</td>\n",
       "      <td>2</td>\n",
       "      <td>small</td>\n",
       "      <td>low</td>\n",
       "      <td>unacc</td>\n",
       "    </tr>\n",
       "    <tr>\n",
       "      <th>2</th>\n",
       "      <td>vhigh</td>\n",
       "      <td>vhigh</td>\n",
       "      <td>2</td>\n",
       "      <td>2</td>\n",
       "      <td>small</td>\n",
       "      <td>med</td>\n",
       "      <td>unacc</td>\n",
       "    </tr>\n",
       "    <tr>\n",
       "      <th>3</th>\n",
       "      <td>vhigh</td>\n",
       "      <td>vhigh</td>\n",
       "      <td>2</td>\n",
       "      <td>2</td>\n",
       "      <td>small</td>\n",
       "      <td>high</td>\n",
       "      <td>unacc</td>\n",
       "    </tr>\n",
       "    <tr>\n",
       "      <th>4</th>\n",
       "      <td>vhigh</td>\n",
       "      <td>vhigh</td>\n",
       "      <td>2</td>\n",
       "      <td>2</td>\n",
       "      <td>med</td>\n",
       "      <td>low</td>\n",
       "      <td>unacc</td>\n",
       "    </tr>\n",
       "    <tr>\n",
       "      <th>5</th>\n",
       "      <td>vhigh</td>\n",
       "      <td>vhigh</td>\n",
       "      <td>2</td>\n",
       "      <td>2</td>\n",
       "      <td>med</td>\n",
       "      <td>med</td>\n",
       "      <td>unacc</td>\n",
       "    </tr>\n",
       "    <tr>\n",
       "      <th>...</th>\n",
       "      <td>...</td>\n",
       "      <td>...</td>\n",
       "      <td>...</td>\n",
       "      <td>...</td>\n",
       "      <td>...</td>\n",
       "      <td>...</td>\n",
       "      <td>...</td>\n",
       "    </tr>\n",
       "    <tr>\n",
       "      <th>1724</th>\n",
       "      <td>low</td>\n",
       "      <td>low</td>\n",
       "      <td>5</td>\n",
       "      <td>5</td>\n",
       "      <td>med</td>\n",
       "      <td>med</td>\n",
       "      <td>good</td>\n",
       "    </tr>\n",
       "    <tr>\n",
       "      <th>1725</th>\n",
       "      <td>low</td>\n",
       "      <td>low</td>\n",
       "      <td>5</td>\n",
       "      <td>5</td>\n",
       "      <td>med</td>\n",
       "      <td>high</td>\n",
       "      <td>vgood</td>\n",
       "    </tr>\n",
       "    <tr>\n",
       "      <th>1726</th>\n",
       "      <td>low</td>\n",
       "      <td>low</td>\n",
       "      <td>5</td>\n",
       "      <td>5</td>\n",
       "      <td>big</td>\n",
       "      <td>low</td>\n",
       "      <td>unacc</td>\n",
       "    </tr>\n",
       "    <tr>\n",
       "      <th>1727</th>\n",
       "      <td>low</td>\n",
       "      <td>low</td>\n",
       "      <td>5</td>\n",
       "      <td>5</td>\n",
       "      <td>big</td>\n",
       "      <td>med</td>\n",
       "      <td>good</td>\n",
       "    </tr>\n",
       "    <tr>\n",
       "      <th>1728</th>\n",
       "      <td>low</td>\n",
       "      <td>low</td>\n",
       "      <td>5</td>\n",
       "      <td>5</td>\n",
       "      <td>big</td>\n",
       "      <td>high</td>\n",
       "      <td>vgood</td>\n",
       "    </tr>\n",
       "  </tbody>\n",
       "</table>\n",
       "<p>1728 rows × 7 columns</p>\n",
       "</div>"
      ],
      "text/plain": [
       "     Buying Maintenance Doors Persons Luggage_boot Safety Car Compatibility\n",
       "1     vhigh       vhigh     2       2        small    low             unacc\n",
       "2     vhigh       vhigh     2       2        small    med             unacc\n",
       "3     vhigh       vhigh     2       2        small   high             unacc\n",
       "4     vhigh       vhigh     2       2          med    low             unacc\n",
       "5     vhigh       vhigh     2       2          med    med             unacc\n",
       "...     ...         ...   ...     ...          ...    ...               ...\n",
       "1724    low         low     5       5          med    med              good\n",
       "1725    low         low     5       5          med   high             vgood\n",
       "1726    low         low     5       5          big    low             unacc\n",
       "1727    low         low     5       5          big    med              good\n",
       "1728    low         low     5       5          big   high             vgood\n",
       "\n",
       "[1728 rows x 7 columns]"
      ]
     },
     "execution_count": 11,
     "metadata": {},
     "output_type": "execute_result"
    }
   ],
   "source": [
    "dataset"
   ]
  },
  {
   "cell_type": "code",
   "execution_count": 12,
   "metadata": {},
   "outputs": [
    {
     "data": {
      "text/plain": [
       "high     432\n",
       "vhigh    432\n",
       "low      432\n",
       "med      432\n",
       "Name: Buying, dtype: int64"
      ]
     },
     "execution_count": 12,
     "metadata": {},
     "output_type": "execute_result"
    }
   ],
   "source": [
    "dataset['Buying'].value_counts()"
   ]
  },
  {
   "cell_type": "code",
   "execution_count": 13,
   "metadata": {},
   "outputs": [
    {
     "data": {
      "text/plain": [
       "high     432\n",
       "vhigh    432\n",
       "low      432\n",
       "med      432\n",
       "Name: Maintenance, dtype: int64"
      ]
     },
     "execution_count": 13,
     "metadata": {},
     "output_type": "execute_result"
    }
   ],
   "source": [
    "dataset['Maintenance'].value_counts()"
   ]
  },
  {
   "cell_type": "code",
   "execution_count": 14,
   "metadata": {},
   "outputs": [
    {
     "data": {
      "text/plain": [
       "big      576\n",
       "small    576\n",
       "med      576\n",
       "Name: Luggage_boot, dtype: int64"
      ]
     },
     "execution_count": 14,
     "metadata": {},
     "output_type": "execute_result"
    }
   ],
   "source": [
    "dataset['Luggage_boot'].value_counts()"
   ]
  },
  {
   "cell_type": "code",
   "execution_count": 15,
   "metadata": {},
   "outputs": [
    {
     "data": {
      "text/plain": [
       "high    576\n",
       "low     576\n",
       "med     576\n",
       "Name: Safety, dtype: int64"
      ]
     },
     "execution_count": 15,
     "metadata": {},
     "output_type": "execute_result"
    }
   ],
   "source": [
    "dataset['Safety'].value_counts()"
   ]
  },
  {
   "cell_type": "code",
   "execution_count": 16,
   "metadata": {},
   "outputs": [
    {
     "data": {
      "text/plain": [
       "unacc    1210\n",
       "acc       384\n",
       "good       69\n",
       "vgood      65\n",
       "Name: Car Compatibility, dtype: int64"
      ]
     },
     "execution_count": 16,
     "metadata": {},
     "output_type": "execute_result"
    }
   ],
   "source": [
    "dataset['Car Compatibility'].value_counts()"
   ]
  },
  {
   "cell_type": "code",
   "execution_count": 18,
   "metadata": {},
   "outputs": [
    {
     "data": {
      "text/plain": [
       "unacc    1210\n",
       "acc       384\n",
       "good       69\n",
       "vgood      65\n",
       "Name: Car Compatibility, dtype: int64"
      ]
     },
     "execution_count": 18,
     "metadata": {},
     "output_type": "execute_result"
    }
   ],
   "source": [
    "dataset['Buying'].value_counts()\n",
    "dataset['Maintenance'].value_counts()\n",
    "dataset['Luggage_boot'].value_counts()\n",
    "dataset['Safety'].value_counts()\n",
    "dataset['Car Compatibility'].value_counts()"
   ]
  },
  {
   "cell_type": "markdown",
   "metadata": {},
   "source": [
    "# Splitting the Dataset"
   ]
  },
  {
   "cell_type": "code",
   "execution_count": 19,
   "metadata": {},
   "outputs": [],
   "source": [
    "X= dataset.iloc[:, :-1].values\n",
    "y= dataset.iloc[:, -1].values"
   ]
  },
  {
   "cell_type": "markdown",
   "metadata": {},
   "source": [
    "# Label Encoding Rest of the Characters of Training Set for compatibility with the model "
   ]
  },
  {
   "cell_type": "code",
   "execution_count": 20,
   "metadata": {},
   "outputs": [],
   "source": [
    "y = le_y.fit_transform(y)\n",
    "X[:, 0] = le_x.fit_transform(X[:, 0])\n",
    "X[:, 1] = le_x.fit_transform(X[:, 1])\n",
    "X[:, 4] = le_x.fit_transform(X[:, 4])\n",
    "X[:, 5] = le_x.fit_transform(X[:, 5])"
   ]
  },
  {
   "cell_type": "code",
   "execution_count": 21,
   "metadata": {},
   "outputs": [
    {
     "data": {
      "text/plain": [
       "array([2, 2, 2, ..., 2, 1, 3])"
      ]
     },
     "execution_count": 21,
     "metadata": {},
     "output_type": "execute_result"
    }
   ],
   "source": [
    "y"
   ]
  },
  {
   "cell_type": "code",
   "execution_count": 22,
   "metadata": {},
   "outputs": [
    {
     "data": {
      "text/plain": [
       "array([[3, 3, 2, 2, 2, 1],\n",
       "       [3, 3, 2, 2, 2, 2],\n",
       "       [3, 3, 2, 2, 2, 0],\n",
       "       ...,\n",
       "       [1, 1, 5, 5, 0, 1],\n",
       "       [1, 1, 5, 5, 0, 2],\n",
       "       [1, 1, 5, 5, 0, 0]], dtype=object)"
      ]
     },
     "execution_count": 22,
     "metadata": {},
     "output_type": "execute_result"
    }
   ],
   "source": [
    "X "
   ]
  },
  {
   "cell_type": "code",
   "execution_count": 23,
   "metadata": {},
   "outputs": [],
   "source": [
    "Y = pd.get_dummies(y).values\n",
    "Y = np.array(Y)\n",
    "Y = Y.astype('int64')"
   ]
  },
  {
   "cell_type": "code",
   "execution_count": 24,
   "metadata": {},
   "outputs": [
    {
     "data": {
      "text/plain": [
       "array([[0, 0, 1, 0],\n",
       "       [0, 0, 1, 0],\n",
       "       [0, 0, 1, 0],\n",
       "       ...,\n",
       "       [0, 0, 1, 0],\n",
       "       [0, 1, 0, 0],\n",
       "       [0, 0, 0, 1]], dtype=int64)"
      ]
     },
     "execution_count": 24,
     "metadata": {},
     "output_type": "execute_result"
    }
   ],
   "source": [
    "Y"
   ]
  },
  {
   "cell_type": "code",
   "execution_count": 25,
   "metadata": {},
   "outputs": [
    {
     "data": {
      "text/plain": [
       "array([[3, 3, 2, 2, 2, 1],\n",
       "       [3, 3, 2, 2, 2, 2],\n",
       "       [3, 3, 2, 2, 2, 0],\n",
       "       ...,\n",
       "       [1, 1, 5, 5, 0, 1],\n",
       "       [1, 1, 5, 5, 0, 2],\n",
       "       [1, 1, 5, 5, 0, 0]], dtype=object)"
      ]
     },
     "execution_count": 25,
     "metadata": {},
     "output_type": "execute_result"
    }
   ],
   "source": [
    "X"
   ]
  },
  {
   "cell_type": "code",
   "execution_count": 26,
   "metadata": {},
   "outputs": [
    {
     "name": "stdout",
     "output_type": "stream",
     "text": [
      "[[3 3 2 2 2 1]\n",
      " [3 3 2 2 2 2]\n",
      " [3 3 2 2 2 0]\n",
      " ...\n",
      " [1 1 5 5 0 1]\n",
      " [1 1 5 5 0 2]\n",
      " [1 1 5 5 0 0]]\n"
     ]
    }
   ],
   "source": [
    "print(X)"
   ]
  },
  {
   "cell_type": "markdown",
   "metadata": {},
   "source": [
    "# Feature Scaling"
   ]
  },
  {
   "cell_type": "code",
   "execution_count": 27,
   "metadata": {},
   "outputs": [],
   "source": [
    "from sklearn.preprocessing import StandardScaler\n",
    "sc = StandardScaler()\n",
    "X = sc.fit_transform(X)"
   ]
  },
  {
   "cell_type": "markdown",
   "metadata": {},
   "source": [
    "# Splitting Data into Training and Test"
   ]
  },
  {
   "cell_type": "code",
   "execution_count": 28,
   "metadata": {},
   "outputs": [],
   "source": [
    "from sklearn.model_selection import train_test_split\n",
    "X_train, X_test, y_train, y_test = train_test_split(X, Y, test_size=0.2, random_state=0)"
   ]
  },
  {
   "cell_type": "markdown",
   "metadata": {},
   "source": [
    "# Applying Aritficial Neural Network"
   ]
  },
  {
   "cell_type": "markdown",
   "metadata": {},
   "source": [
    "# ANN"
   ]
  },
  {
   "cell_type": "code",
   "execution_count": 29,
   "metadata": {},
   "outputs": [],
   "source": [
    "ann = tf.keras.models.Sequential()"
   ]
  },
  {
   "cell_type": "markdown",
   "metadata": {},
   "source": [
    "# Input Layer and 1st Hidden Layer"
   ]
  },
  {
   "cell_type": "code",
   "execution_count": 30,
   "metadata": {},
   "outputs": [],
   "source": [
    "ann.add(tf.keras.layers.Dense(6, input_shape=(6,), activation='relu'))"
   ]
  },
  {
   "cell_type": "markdown",
   "metadata": {},
   "source": [
    "# 2nd Hidden Layer"
   ]
  },
  {
   "cell_type": "code",
   "execution_count": 31,
   "metadata": {},
   "outputs": [],
   "source": [
    "ann.add(tf.keras.layers.Dense(6, activation='relu'))"
   ]
  },
  {
   "cell_type": "code",
   "execution_count": 32,
   "metadata": {},
   "outputs": [],
   "source": [
    "ann.add(tf.keras.layers.Dense(6, activation='relu'))"
   ]
  },
  {
   "cell_type": "markdown",
   "metadata": {},
   "source": [
    "# Output Layer"
   ]
  },
  {
   "cell_type": "code",
   "execution_count": 33,
   "metadata": {},
   "outputs": [],
   "source": [
    "ann.add(tf.keras.layers.Dense(4, activation='softmax'))"
   ]
  },
  {
   "cell_type": "markdown",
   "metadata": {},
   "source": [
    "# Compiling ANN"
   ]
  },
  {
   "cell_type": "code",
   "execution_count": 34,
   "metadata": {},
   "outputs": [],
   "source": [
    "ann.compile(optimizer='Adam', loss='categorical_crossentropy', metrics=['accuracy'])"
   ]
  },
  {
   "cell_type": "markdown",
   "metadata": {},
   "source": [
    "# Training ANN"
   ]
  },
  {
   "cell_type": "code",
   "execution_count": 35,
   "metadata": {
    "scrolled": true
   },
   "outputs": [
    {
     "name": "stdout",
     "output_type": "stream",
     "text": [
      "Train on 1382 samples\n",
      "Epoch 1/100\n",
      "1382/1382 [==============================] - 1s 692us/sample - loss: 1.3425 - accuracy: 0.5036\n",
      "Epoch 2/100\n",
      "1382/1382 [==============================] - 0s 96us/sample - loss: 1.2261 - accuracy: 0.6860\n",
      "Epoch 3/100\n",
      "1382/1382 [==============================] - 0s 100us/sample - loss: 1.0704 - accuracy: 0.7019\n",
      "Epoch 4/100\n",
      "1382/1382 [==============================] - 0s 79us/sample - loss: 0.9243 - accuracy: 0.7019\n",
      "Epoch 5/100\n",
      "1382/1382 [==============================] - 0s 83us/sample - loss: 0.8321 - accuracy: 0.7019\n",
      "Epoch 6/100\n",
      "1382/1382 [==============================] - 0s 72us/sample - loss: 0.7768 - accuracy: 0.7019\n",
      "Epoch 7/100\n",
      "1382/1382 [==============================] - 0s 84us/sample - loss: 0.7427 - accuracy: 0.7019\n",
      "Epoch 8/100\n",
      "1382/1382 [==============================] - 0s 107us/sample - loss: 0.7220 - accuracy: 0.7019\n",
      "Epoch 9/100\n",
      "1382/1382 [==============================] - 0s 77us/sample - loss: 0.7073 - accuracy: 0.7062\n",
      "Epoch 10/100\n",
      "1382/1382 [==============================] - 0s 70us/sample - loss: 0.6968 - accuracy: 0.7120\n",
      "Epoch 11/100\n",
      "1382/1382 [==============================] - 0s 69us/sample - loss: 0.6887 - accuracy: 0.7120\n",
      "Epoch 12/100\n",
      "1382/1382 [==============================] - 0s 119us/sample - loss: 0.6814 - accuracy: 0.7062\n",
      "Epoch 13/100\n",
      "1382/1382 [==============================] - 0s 75us/sample - loss: 0.6751 - accuracy: 0.7106\n",
      "Epoch 14/100\n",
      "1382/1382 [==============================] - 0s 70us/sample - loss: 0.6696 - accuracy: 0.7084\n",
      "Epoch 15/100\n",
      "1382/1382 [==============================] - 0s 68us/sample - loss: 0.6643 - accuracy: 0.7062\n",
      "Epoch 16/100\n",
      "1382/1382 [==============================] - 0s 72us/sample - loss: 0.6595 - accuracy: 0.7062\n",
      "Epoch 17/100\n",
      "1382/1382 [==============================] - 0s 75us/sample - loss: 0.6553 - accuracy: 0.7055\n",
      "Epoch 18/100\n",
      "1382/1382 [==============================] - 0s 72us/sample - loss: 0.6512 - accuracy: 0.7033\n",
      "Epoch 19/100\n",
      "1382/1382 [==============================] - 0s 69us/sample - loss: 0.6477 - accuracy: 0.7113\n",
      "Epoch 20/100\n",
      "1382/1382 [==============================] - 0s 67us/sample - loss: 0.6449 - accuracy: 0.7033\n",
      "Epoch 21/100\n",
      "1382/1382 [==============================] - 0s 67us/sample - loss: 0.6410 - accuracy: 0.7069\n",
      "Epoch 22/100\n",
      "1382/1382 [==============================] - 0s 69us/sample - loss: 0.6373 - accuracy: 0.7048\n",
      "Epoch 23/100\n",
      "1382/1382 [==============================] - 0s 67us/sample - loss: 0.6350 - accuracy: 0.7069\n",
      "Epoch 24/100\n",
      "1382/1382 [==============================] - 0s 71us/sample - loss: 0.6318 - accuracy: 0.7098\n",
      "Epoch 25/100\n",
      "1382/1382 [==============================] - 0s 68us/sample - loss: 0.6295 - accuracy: 0.7055\n",
      "Epoch 26/100\n",
      "1382/1382 [==============================] - 0s 72us/sample - loss: 0.6269 - accuracy: 0.7106\n",
      "Epoch 27/100\n",
      "1382/1382 [==============================] - 0s 69us/sample - loss: 0.6244 - accuracy: 0.7062\n",
      "Epoch 28/100\n",
      "1382/1382 [==============================] - 0s 69us/sample - loss: 0.6217 - accuracy: 0.7084\n",
      "Epoch 29/100\n",
      "1382/1382 [==============================] - 0s 67us/sample - loss: 0.6197 - accuracy: 0.7069\n",
      "Epoch 30/100\n",
      "1382/1382 [==============================] - 0s 72us/sample - loss: 0.6158 - accuracy: 0.7077\n",
      "Epoch 31/100\n",
      "1382/1382 [==============================] - 0s 69us/sample - loss: 0.6120 - accuracy: 0.7026\n",
      "Epoch 32/100\n",
      "1382/1382 [==============================] - 0s 70us/sample - loss: 0.6084 - accuracy: 0.7026\n",
      "Epoch 33/100\n",
      "1382/1382 [==============================] - 0s 68us/sample - loss: 0.6030 - accuracy: 0.7019\n",
      "Epoch 34/100\n",
      "1382/1382 [==============================] - 0s 67us/sample - loss: 0.5981 - accuracy: 0.7113\n",
      "Epoch 35/100\n",
      "1382/1382 [==============================] - 0s 68us/sample - loss: 0.5932 - accuracy: 0.7077\n",
      "Epoch 36/100\n",
      "1382/1382 [==============================] - 0s 72us/sample - loss: 0.5846 - accuracy: 0.7091\n",
      "Epoch 37/100\n",
      "1382/1382 [==============================] - 0s 66us/sample - loss: 0.5748 - accuracy: 0.7127\n",
      "Epoch 38/100\n",
      "1382/1382 [==============================] - 0s 72us/sample - loss: 0.5637 - accuracy: 0.7236\n",
      "Epoch 39/100\n",
      "1382/1382 [==============================] - 0s 70us/sample - loss: 0.5492 - accuracy: 0.7272\n",
      "Epoch 40/100\n",
      "1382/1382 [==============================] - 0s 68us/sample - loss: 0.5320 - accuracy: 0.7352\n",
      "Epoch 41/100\n",
      "1382/1382 [==============================] - 0s 68us/sample - loss: 0.5122 - accuracy: 0.7504\n",
      "Epoch 42/100\n",
      "1382/1382 [==============================] - 0s 71us/sample - loss: 0.4909 - accuracy: 0.7641\n",
      "Epoch 43/100\n",
      "1382/1382 [==============================] - 0s 68us/sample - loss: 0.4714 - accuracy: 0.7757\n",
      "Epoch 44/100\n",
      "1382/1382 [==============================] - 0s 70us/sample - loss: 0.4547 - accuracy: 0.7865\n",
      "Epoch 45/100\n",
      "1382/1382 [==============================] - 0s 71us/sample - loss: 0.4397 - accuracy: 0.7916\n",
      "Epoch 46/100\n",
      "1382/1382 [==============================] - 0s 72us/sample - loss: 0.4275 - accuracy: 0.8046\n",
      "Epoch 47/100\n",
      "1382/1382 [==============================] - 0s 63us/sample - loss: 0.4135 - accuracy: 0.8155\n",
      "Epoch 48/100\n",
      "1382/1382 [==============================] - 0s 68us/sample - loss: 0.3977 - accuracy: 0.8321\n",
      "Epoch 49/100\n",
      "1382/1382 [==============================] - 0s 69us/sample - loss: 0.3768 - accuracy: 0.8394\n",
      "Epoch 50/100\n",
      "1382/1382 [==============================] - 0s 72us/sample - loss: 0.3620 - accuracy: 0.8480\n",
      "Epoch 51/100\n",
      "1382/1382 [==============================] - 0s 67us/sample - loss: 0.3478 - accuracy: 0.8553\n",
      "Epoch 52/100\n",
      "1382/1382 [==============================] - 0s 68us/sample - loss: 0.3382 - accuracy: 0.8596\n",
      "Epoch 53/100\n",
      "1382/1382 [==============================] - 0s 65us/sample - loss: 0.3298 - accuracy: 0.8654\n",
      "Epoch 54/100\n",
      "1382/1382 [==============================] - 0s 69us/sample - loss: 0.3205 - accuracy: 0.8683\n",
      "Epoch 55/100\n",
      "1382/1382 [==============================] - 0s 69us/sample - loss: 0.3161 - accuracy: 0.8712\n",
      "Epoch 56/100\n",
      "1382/1382 [==============================] - 0s 69us/sample - loss: 0.3088 - accuracy: 0.8690\n",
      "Epoch 57/100\n",
      "1382/1382 [==============================] - 0s 66us/sample - loss: 0.3021 - accuracy: 0.8748\n",
      "Epoch 58/100\n",
      "1382/1382 [==============================] - 0s 67us/sample - loss: 0.2969 - accuracy: 0.8784\n",
      "Epoch 59/100\n",
      "1382/1382 [==============================] - 0s 68us/sample - loss: 0.2917 - accuracy: 0.8806\n",
      "Epoch 60/100\n",
      "1382/1382 [==============================] - 0s 66us/sample - loss: 0.2853 - accuracy: 0.8842\n",
      "Epoch 61/100\n",
      "1382/1382 [==============================] - 0s 67us/sample - loss: 0.2792 - accuracy: 0.8893\n",
      "Epoch 62/100\n",
      "1382/1382 [==============================] - 0s 68us/sample - loss: 0.2737 - accuracy: 0.8849\n",
      "Epoch 63/100\n",
      "1382/1382 [==============================] - 0s 69us/sample - loss: 0.2664 - accuracy: 0.8929\n",
      "Epoch 64/100\n",
      "1382/1382 [==============================] - 0s 63us/sample - loss: 0.2589 - accuracy: 0.9009\n",
      "Epoch 65/100\n",
      "1382/1382 [==============================] - 0s 66us/sample - loss: 0.2540 - accuracy: 0.9045\n",
      "Epoch 66/100\n",
      "1382/1382 [==============================] - 0s 69us/sample - loss: 0.2488 - accuracy: 0.9067\n",
      "Epoch 67/100\n",
      "1382/1382 [==============================] - 0s 72us/sample - loss: 0.2457 - accuracy: 0.9103\n",
      "Epoch 68/100\n",
      "1382/1382 [==============================] - 0s 68us/sample - loss: 0.2407 - accuracy: 0.9132\n",
      "Epoch 69/100\n",
      "1382/1382 [==============================] - 0s 67us/sample - loss: 0.2356 - accuracy: 0.9161\n",
      "Epoch 70/100\n",
      "1382/1382 [==============================] - 0s 69us/sample - loss: 0.2322 - accuracy: 0.9153\n",
      "Epoch 71/100\n",
      "1382/1382 [==============================] - 0s 66us/sample - loss: 0.2291 - accuracy: 0.9153\n",
      "Epoch 72/100\n",
      "1382/1382 [==============================] - 0s 65us/sample - loss: 0.2259 - accuracy: 0.9168\n",
      "Epoch 73/100\n",
      "1382/1382 [==============================] - 0s 67us/sample - loss: 0.2222 - accuracy: 0.9197\n",
      "Epoch 74/100\n",
      "1382/1382 [==============================] - 0s 69us/sample - loss: 0.2204 - accuracy: 0.9190\n",
      "Epoch 75/100\n",
      "1382/1382 [==============================] - 0s 69us/sample - loss: 0.2171 - accuracy: 0.9190\n",
      "Epoch 76/100\n",
      "1382/1382 [==============================] - 0s 65us/sample - loss: 0.2161 - accuracy: 0.9139\n",
      "Epoch 77/100\n"
     ]
    },
    {
     "name": "stdout",
     "output_type": "stream",
     "text": [
      "1382/1382 [==============================] - 0s 67us/sample - loss: 0.2137 - accuracy: 0.9211\n",
      "Epoch 78/100\n",
      "1382/1382 [==============================] - 0s 69us/sample - loss: 0.2115 - accuracy: 0.9182\n",
      "Epoch 79/100\n",
      "1382/1382 [==============================] - 0s 69us/sample - loss: 0.2102 - accuracy: 0.9211\n",
      "Epoch 80/100\n",
      "1382/1382 [==============================] - 0s 69us/sample - loss: 0.2071 - accuracy: 0.9182\n",
      "Epoch 81/100\n",
      "1382/1382 [==============================] - 0s 70us/sample - loss: 0.2045 - accuracy: 0.9197\n",
      "Epoch 82/100\n",
      "1382/1382 [==============================] - 0s 69us/sample - loss: 0.2017 - accuracy: 0.9255\n",
      "Epoch 83/100\n",
      "1382/1382 [==============================] - 0s 71us/sample - loss: 0.2008 - accuracy: 0.9233\n",
      "Epoch 84/100\n",
      "1382/1382 [==============================] - 0s 72us/sample - loss: 0.1985 - accuracy: 0.9226\n",
      "Epoch 85/100\n",
      "1382/1382 [==============================] - 0s 69us/sample - loss: 0.1984 - accuracy: 0.9233\n",
      "Epoch 86/100\n",
      "1382/1382 [==============================] - 0s 72us/sample - loss: 0.1961 - accuracy: 0.9219\n",
      "Epoch 87/100\n",
      "1382/1382 [==============================] - 0s 70us/sample - loss: 0.1920 - accuracy: 0.9247\n",
      "Epoch 88/100\n",
      "1382/1382 [==============================] - 0s 70us/sample - loss: 0.1944 - accuracy: 0.9240\n",
      "Epoch 89/100\n",
      "1382/1382 [==============================] - 0s 73us/sample - loss: 0.1901 - accuracy: 0.9269\n",
      "Epoch 90/100\n",
      "1382/1382 [==============================] - 0s 76us/sample - loss: 0.1877 - accuracy: 0.9269\n",
      "Epoch 91/100\n",
      "1382/1382 [==============================] - 0s 72us/sample - loss: 0.1856 - accuracy: 0.9284\n",
      "Epoch 92/100\n",
      "1382/1382 [==============================] - 0s 74us/sample - loss: 0.1866 - accuracy: 0.9298\n",
      "Epoch 93/100\n",
      "1382/1382 [==============================] - 0s 73us/sample - loss: 0.1827 - accuracy: 0.9291\n",
      "Epoch 94/100\n",
      "1382/1382 [==============================] - 0s 72us/sample - loss: 0.1828 - accuracy: 0.9284\n",
      "Epoch 95/100\n",
      "1382/1382 [==============================] - 0s 69us/sample - loss: 0.1801 - accuracy: 0.9298\n",
      "Epoch 96/100\n",
      "1382/1382 [==============================] - 0s 75us/sample - loss: 0.1780 - accuracy: 0.9313\n",
      "Epoch 97/100\n",
      "1382/1382 [==============================] - 0s 69us/sample - loss: 0.1791 - accuracy: 0.9320\n",
      "Epoch 98/100\n",
      "1382/1382 [==============================] - 0s 70us/sample - loss: 0.1767 - accuracy: 0.9298\n",
      "Epoch 99/100\n",
      "1382/1382 [==============================] - 0s 73us/sample - loss: 0.1745 - accuracy: 0.9291\n",
      "Epoch 100/100\n",
      "1382/1382 [==============================] - 0s 71us/sample - loss: 0.1734 - accuracy: 0.9305\n"
     ]
    },
    {
     "data": {
      "text/plain": [
       "<tensorflow.python.keras.callbacks.History at 0x147b0751888>"
      ]
     },
     "execution_count": 35,
     "metadata": {},
     "output_type": "execute_result"
    }
   ],
   "source": [
    "ann.fit(X_train, y_train, batch_size=32, epochs=100)"
   ]
  },
  {
   "cell_type": "markdown",
   "metadata": {},
   "source": [
    "# Label Encoded Buying:  \n",
    "###               3:>>> vhigh\n",
    "###               1:>>> low\n",
    "###               0:>>>high\n",
    "###               2:>>> med\n",
    "\n",
    "# Doors:\n",
    "### 2,3,4,5\n",
    "\n",
    "# Persons:\n",
    "## 2,4,5\n",
    "\n",
    "#  Label Encoded Maintenance:  \n",
    "###                        3:>>> vhigh\n",
    "###                        1:>>> low\n",
    "###                        0:>>>high\n",
    "###                        2:>>>med\n",
    "\n",
    "# Label Encoded Luggage_boot:  \n",
    "###                        2:small\n",
    "###                        1:med\n",
    "###                        0:big\n",
    "\n",
    "# Label Encoded Safety:\n",
    "###                       1:>>>> low\n",
    "###                       2:>>>> med\n",
    "###                       0:>>>>high"
   ]
  },
  {
   "cell_type": "markdown",
   "metadata": {},
   "source": [
    "# Evaluating Model with Classification Report and Confusion Matrix"
   ]
  },
  {
   "cell_type": "code",
   "execution_count": 36,
   "metadata": {},
   "outputs": [],
   "source": [
    "y_pred = ann.predict(X_test)\n",
    "y_test_class = np.argmax(y_test, axis=1)\n",
    "y_pred_class = np.argmax(y_pred, axis=1)"
   ]
  },
  {
   "cell_type": "code",
   "execution_count": 37,
   "metadata": {},
   "outputs": [
    {
     "name": "stdout",
     "output_type": "stream",
     "text": [
      "              precision    recall  f1-score   support\n",
      "\n",
      "           0       0.79      0.89      0.83        79\n",
      "           1       0.80      0.24      0.36        17\n",
      "           2       0.97      0.97      0.97       240\n",
      "           3       0.67      0.80      0.73        10\n",
      "\n",
      "    accuracy                           0.91       346\n",
      "   macro avg       0.81      0.72      0.72       346\n",
      "weighted avg       0.91      0.91      0.90       346\n",
      "\n",
      "[[ 70   1   7   1]\n",
      " [ 10   4   0   3]\n",
      " [  7   0 233   0]\n",
      " [  2   0   0   8]]\n"
     ]
    }
   ],
   "source": [
    "from sklearn.metrics import classification_report , confusion_matrix\n",
    "print(classification_report(y_test_class, y_pred_class))\n",
    "print(confusion_matrix(y_test_class, y_pred_class))"
   ]
  }
 ],
 "metadata": {
  "kernelspec": {
   "display_name": "Python 3",
   "language": "python",
   "name": "python3"
  },
  "language_info": {
   "codemirror_mode": {
    "name": "ipython",
    "version": 3
   },
   "file_extension": ".py",
   "mimetype": "text/x-python",
   "name": "python",
   "nbconvert_exporter": "python",
   "pygments_lexer": "ipython3",
   "version": "3.7.7"
  }
 },
 "nbformat": 4,
 "nbformat_minor": 4
}
